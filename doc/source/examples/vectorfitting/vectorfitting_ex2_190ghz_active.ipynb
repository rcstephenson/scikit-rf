{
 "cells": [
  {
   "cell_type": "markdown",
   "metadata": {},
   "source": [
    "# Ex2: Measured 190 GHz Active 2-Port"
   ]
  },
  {
   "cell_type": "markdown",
   "metadata": {},
   "source": [
    "The Vector Fitting feature is demonstrated using a 2-port S-matrix of an active circuit measured from 140 GHz to 220 GHz. Additional explanations and background information can be found in the [Vector Fitting tutorial](../../tutorials/VectorFitting.ipynb)."
   ]
  },
  {
   "cell_type": "code",
   "execution_count": null,
   "metadata": {},
   "outputs": [],
   "source": [
    "import skrf\n",
    "import numpy as np\n",
    "import matplotlib.pyplot as mplt"
   ]
  },
  {
   "cell_type": "markdown",
   "metadata": {},
   "source": [
    "This example is a lot more tricky to fit, because the responses contain a few \"bumps\" and noise from the measurement. In such a case, finding a good number of initial poles can take a few iterations. "
   ]
  },
  {
   "cell_type": "markdown",
   "metadata": {},
   "source": [
    "Load the Network from a Touchstone file and create the Vector Fitting instance:"
   ]
  },
  {
   "cell_type": "code",
   "execution_count": null,
   "metadata": {},
   "outputs": [],
   "source": [
    "nw = skrf.network.Network('./190ghz_tx_measured.S2P')\n",
    "vf = skrf.VectorFitting(nw)"
   ]
  },
  {
   "cell_type": "markdown",
   "metadata": {},
   "source": [
    "**First attempt:** Perform the fit using 4 real poles and 4 complex-conjugate poles: (*Note*: In a previous version of this example, the order of the two attempts was reversed. Also see the [comment at the end](#comment).)"
   ]
  },
  {
   "cell_type": "code",
   "execution_count": null,
   "metadata": {},
   "outputs": [],
   "source": [
    "vf.vector_fit(n_poles_real=4, n_poles_cmplx=4)"
   ]
  },
  {
   "cell_type": "markdown",
   "metadata": {},
   "source": [
    "The function `plot_convergence()` can be helpful to examine the convergence and see if something was going wrong."
   ]
  },
  {
   "cell_type": "code",
   "execution_count": null,
   "metadata": {},
   "outputs": [],
   "source": [
    "vf.plot_convergence()"
   ]
  },
  {
   "cell_type": "markdown",
   "metadata": {},
   "source": [
    "Checking the results by comparing the model responses to the original sampled data indicates a successful fit, which is also indicated by a small rms error (less than 0.05):"
   ]
  },
  {
   "cell_type": "code",
   "execution_count": null,
   "metadata": {},
   "outputs": [],
   "source": [
    "vf.get_rms_error()"
   ]
  },
  {
   "cell_type": "code",
   "execution_count": null,
   "metadata": {},
   "outputs": [],
   "source": [
    "# plot frequency responses\n",
    "fig, ax = mplt.subplots(2, 2)\n",
    "fig.set_size_inches(12, 8)\n",
    "vf.plot_s_mag(0, 0, ax=ax[0][0]) # s11\n",
    "vf.plot_s_mag(0, 1, ax=ax[0][1]) # s12\n",
    "vf.plot_s_mag(1, 0, ax=ax[1][0]) # s21\n",
    "vf.plot_s_mag(1, 1, ax=ax[1][1]) # s22\n",
    "fig.tight_layout()\n",
    "mplt.show()"
   ]
  },
  {
   "cell_type": "markdown",
   "metadata": {},
   "source": [
    "It is a good idea to also check the model response well outside the original frequency range."
   ]
  },
  {
   "cell_type": "code",
   "execution_count": null,
   "metadata": {
    "scrolled": true
   },
   "outputs": [],
   "source": [
    "freqs = np.linspace(0, 500e9, 501) # plot model response from dc to 500 GHz\n",
    "fig, ax = mplt.subplots(2, 2)\n",
    "fig.set_size_inches(12, 8)\n",
    "vf.plot_s_mag(0, 0, freqs=freqs, ax=ax[0][0]) # s11\n",
    "vf.plot_s_mag(0, 1, freqs=freqs, ax=ax[0][1]) # s12\n",
    "vf.plot_s_mag(1, 0, freqs=freqs, ax=ax[1][0]) # s21\n",
    "vf.plot_s_mag(1, 1, freqs=freqs, ax=ax[1][1]) # s22\n",
    "fig.tight_layout()\n",
    "mplt.show()"
   ]
  },
  {
   "cell_type": "markdown",
   "metadata": {},
   "source": [
    "**Second attempt:** Maybe an even better fit without that large dc \"spike\" can be achieved, so let's try again. Unwanted spikes at frequencies outside the fitting band are often caused by unnecessary or badly configured poles. Predictions about the fitting quality outside the fitting band are somewhat speculative and are not exactly controllable without additional samples at those frequencies. Still, let's try to decrease the number of real starting poles to 3 and see if the dc spike is removed: (*Note*: One could also reduce the real poles and/or increase the complex-conjugate poles. Also see the [comment at the end](#comment).)"
   ]
  },
  {
   "cell_type": "code",
   "execution_count": null,
   "metadata": {},
   "outputs": [],
   "source": [
    "vf.vector_fit(n_poles_real=3, n_poles_cmplx=4)\n",
    "vf.plot_convergence()"
   ]
  },
  {
   "cell_type": "markdown",
   "metadata": {},
   "source": [
    "This fit took more iterations, but it converged nevertheless and it matches the network data very well inside the fitting band. Again, a small rms error is achieved:"
   ]
  },
  {
   "cell_type": "code",
   "execution_count": null,
   "metadata": {},
   "outputs": [],
   "source": [
    "vf.get_rms_error()"
   ]
  },
  {
   "cell_type": "code",
   "execution_count": null,
   "metadata": {},
   "outputs": [],
   "source": [
    "fig, ax = mplt.subplots(2, 2)\n",
    "fig.set_size_inches(12, 8)\n",
    "vf.plot_s_mag(0, 0, freqs=freqs, ax=ax[0][0]) # s11\n",
    "vf.plot_s_mag(0, 1, freqs=freqs, ax=ax[0][1]) # s12\n",
    "vf.plot_s_mag(1, 0, freqs=freqs, ax=ax[1][0]) # s21\n",
    "vf.plot_s_mag(1, 1, freqs=freqs, ax=ax[1][1]) # s22\n",
    "fig.tight_layout()\n",
    "mplt.show()"
   ]
  },
  {
   "cell_type": "markdown",
   "metadata": {},
   "source": [
    "This looks good, so let's export the model as a SPICE subcircuit. For example:\n",
    "\n",
    "`vf.write_spice_subcircuit_s('/home/vinc/Desktop/190ghz_tx.sp')`\n",
    "\n",
    "The subcircuit can then be simulated in SPICE with the same AC simulation setup as in the [ring slot example](./vectorfitting_ex1_ringslot.ipynb):\n",
    "\n",
    "<img src=\"./ngspice_190ghz_tx_sp_mag.svg\" />\n",
    "<img src=\"./ngspice_190ghz_tx_sp_smith.svg\" />"
   ]
  },
  {
   "cell_type": "markdown",
   "metadata": {},
   "source": [
    "<div id=\"comment\"></div>**Comment on starting poles:**\n",
    "\n",
    "During the pole relocation process (first step in the fitting process), the starting poles are sucessively moved to frequencies where they can best match all target responses. Additionally, the type of poles can change from real to complex-conjugate: two real poles can become one complex-conjugate pole (and vise versa). As a result, there are multiple combinations of starting poles which can produce the same final set of poles. However, certain setups will converge faster than others, which also depends on the initial pole spacing. In extreme cases, the algorithm can even be \"undecided\" if two real poles behave exactly like one complex-conjugate pole and it gets \"stuck\" jumping back and forth without converging to a final solution.\n",
    "\n",
    "Equivalent setups for the first attempt with `n_poles_real=3, n_poles_cmplx=4` (i.e. 3+4):\n",
    "\n",
    "- 1+5\n",
    "- **3+4**\n",
    "- 5+3\n",
    "- 7+2\n",
    "- 9+1\n",
    "- 11+0\n",
    "\n",
    "Equivalent setups for the second attempt with `n_poles_real=4, n_poles_cmplx=4` (i.e. 4+4):\n",
    "\n",
    "- 0+6\n",
    "- 2+5\n",
    "- **4+4**\n",
    "- 6+3\n",
    "- 8+2\n",
    "- 10+1\n",
    "- 12+0\n",
    "\n",
    "Examples for problematic setups that do not converge properly due to an oscillation between two (equally good) solutions:\n",
    "\n",
    "- 0+5 <--> 2+4 <--> ...\n",
    "- 0+7 <--> 2+5 <--> ..."
   ]
  },
  {
   "cell_type": "code",
   "execution_count": null,
   "metadata": {},
   "outputs": [],
   "source": [
    "vf.vector_fit(n_poles_real=0, n_poles_cmplx=5)\n",
    "vf.plot_convergence()"
   ]
  },
  {
   "cell_type": "markdown",
   "metadata": {},
   "source": [
    "Even though the pole relocation process oscillated between two (or more?) solutions and did not converge, the fit was still successful, because the solutions themselves did converge:"
   ]
  },
  {
   "cell_type": "code",
   "execution_count": null,
   "metadata": {},
   "outputs": [],
   "source": [
    "vf.get_rms_error()"
   ]
  },
  {
   "cell_type": "code",
   "execution_count": null,
   "metadata": {},
   "outputs": [],
   "source": [
    "fig, ax = mplt.subplots(2, 2)\n",
    "fig.set_size_inches(12, 8)\n",
    "vf.plot_s_mag(0, 0, freqs=freqs, ax=ax[0][0]) # s11\n",
    "vf.plot_s_mag(0, 1, freqs=freqs, ax=ax[0][1]) # s12\n",
    "vf.plot_s_mag(1, 0, freqs=freqs, ax=ax[1][0]) # s21\n",
    "vf.plot_s_mag(1, 1, freqs=freqs, ax=ax[1][1]) # s22\n",
    "fig.tight_layout()\n",
    "mplt.show()"
   ]
  }
 ],
 "metadata": {
  "kernelspec": {
   "display_name": "Python 3",
   "language": "python",
   "name": "python3"
  },
  "language_info": {
   "codemirror_mode": {
    "name": "ipython",
    "version": 3
   },
   "file_extension": ".py",
   "mimetype": "text/x-python",
   "name": "python",
   "nbconvert_exporter": "python",
   "pygments_lexer": "ipython3",
   "version": "3.8.10"
  },
  "nbsphinx": {
   "timeout": 360
  }
 },
 "nbformat": 4,
 "nbformat_minor": 4
}
